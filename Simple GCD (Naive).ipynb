{
 "cells": [
  {
   "cell_type": "markdown",
   "metadata": {},
   "source": [
    "### Write a function gcd (m,n) to find the greatest common divisor of m and n."
   ]
  },
  {
   "cell_type": "code",
   "execution_count": 7,
   "metadata": {},
   "outputs": [
    {
     "data": {
      "text/plain": [
       "5"
      ]
     },
     "execution_count": 7,
     "metadata": {},
     "output_type": "execute_result"
    }
   ],
   "source": [
    "def gcd(m,n):\n",
    "    \n",
    "    # Store the factors of m in a separate list fm\n",
    "    fm = []\n",
    "    for i in range(1,m+1):\n",
    "        if (m%i) == 0:\n",
    "            fm.append(i)\n",
    "            \n",
    "    # Store the factors of n in a separate list fn\n",
    "    fn = []\n",
    "    for i in range(1,n+1):\n",
    "        if (n%i) == 0:\n",
    "            fn.append(i)\n",
    "    \n",
    "    # Create a common list of factors. Add common factors from fm and fn to cf\n",
    "    cf = []\n",
    "    for i in fm:\n",
    "        if i in fn:\n",
    "            cf.append(i)\n",
    "    \n",
    "    # Return the largest(rightmost) element from cf\n",
    "    return cf[-1]\n",
    "\n",
    "gcd(30,25)"
   ]
  }
 ],
 "metadata": {
  "kernelspec": {
   "display_name": "Python 3",
   "language": "python",
   "name": "python3"
  },
  "language_info": {
   "codemirror_mode": {
    "name": "ipython",
    "version": 3
   },
   "file_extension": ".py",
   "mimetype": "text/x-python",
   "name": "python",
   "nbconvert_exporter": "python",
   "pygments_lexer": "ipython3",
   "version": "3.8.3"
  }
 },
 "nbformat": 4,
 "nbformat_minor": 4
}
