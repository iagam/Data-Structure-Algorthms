{
 "cells": [
  {
   "cell_type": "markdown",
   "metadata": {},
   "source": [
    "## Euclid's Algorithm"
   ]
  },
  {
   "cell_type": "markdown",
   "metadata": {},
   "source": [
    "###  Version 1.0\n",
    "\n",
    "#### Suppose d divides both m and n and m > n\n",
    "#### Then m = ad, n = bd\n",
    "#### So m - n = ad - bd = (a - b)d\n",
    "#### d divides m and n as well\n",
    "#### So gcd(m, n) = gcd(n, m - n)"
   ]
  },
  {
   "cell_type": "code",
   "execution_count": 6,
   "metadata": {},
   "outputs": [
    {
     "data": {
      "text/plain": [
       "4"
      ]
     },
     "execution_count": 6,
     "metadata": {},
     "output_type": "execute_result"
    }
   ],
   "source": [
    "def gcd(m,n):\n",
    "    \n",
    "    # Assume m >= n\n",
    "    if (m<n):\n",
    "        (m,n) = (n,m)\n",
    "    \n",
    "    if (m%n) == 0:\n",
    "        return n\n",
    "    else:\n",
    "        diff = (m-n)\n",
    "        # diff > n? possible!\n",
    "        return gcd(max(n,diff),min(n,diff)) # Recursion\n",
    "gcd(12,8)"
   ]
  },
  {
   "cell_type": "markdown",
   "metadata": {},
   "source": [
    "### Version 1.1"
   ]
  },
  {
   "cell_type": "code",
   "execution_count": 3,
   "metadata": {},
   "outputs": [
    {
     "data": {
      "text/plain": [
       "4"
      ]
     },
     "execution_count": 3,
     "metadata": {},
     "output_type": "execute_result"
    }
   ],
   "source": [
    "def gcd(m,n):\n",
    "    \n",
    "    # Assume m >= n\n",
    "    if (m<n):\n",
    "        (m,n) = (n,m)\n",
    "    \n",
    "    while (m%n) != 0:\n",
    "        diff = m-n\n",
    "        # diff > n? possible!\n",
    "        (m,n) = (max(n,diff),min(n,diff))\n",
    "    return n\n",
    "\n",
    "gcd(12,8)"
   ]
  },
  {
   "cell_type": "markdown",
   "metadata": {},
   "source": [
    "### Version 2.0"
   ]
  },
  {
   "cell_type": "markdown",
   "metadata": {},
   "source": [
    "#### Suppose n does not divide m\n",
    "#### Then m = qn + r where q is the quotient and r is the remainder when m is divided by n\n",
    "#### Assume d divides both m and n\n",
    "#### Then m = ad, n = bd\n",
    "#### So ad = q(bd) + r\n",
    "#### It follows that r = cd , so d divides r as well"
   ]
  },
  {
   "cell_type": "code",
   "execution_count": 7,
   "metadata": {},
   "outputs": [
    {
     "data": {
      "text/plain": [
       "4"
      ]
     },
     "execution_count": 7,
     "metadata": {},
     "output_type": "execute_result"
    }
   ],
   "source": [
    "def gcd(m,n):\n",
    "    \n",
    "    # Assume m >= n\n",
    "    if m < n:\n",
    "        (m,n) = (n,m)\n",
    "    \n",
    "    if (m%n) == 0:\n",
    "        return n\n",
    "    else:\n",
    "        return gcd(n,(m%n)) # Recursion\n",
    "\n",
    "gcd(12,8)"
   ]
  },
  {
   "cell_type": "markdown",
   "metadata": {},
   "source": [
    "### Version 2.1"
   ]
  },
  {
   "cell_type": "code",
   "execution_count": 5,
   "metadata": {},
   "outputs": [
    {
     "data": {
      "text/plain": [
       "4"
      ]
     },
     "execution_count": 5,
     "metadata": {},
     "output_type": "execute_result"
    }
   ],
   "source": [
    "def gcd(m,n):\n",
    "    \n",
    "    # Assume m >= n\n",
    "    if m < n:\n",
    "        (m,n) = (n,m)\n",
    "    \n",
    "    while m%n != 0:\n",
    "        (m,n) = (n,m%n)\n",
    "    \n",
    "    return n\n",
    "\n",
    "gcd(12,8)"
   ]
  }
 ],
 "metadata": {
  "kernelspec": {
   "display_name": "Python 3",
   "language": "python",
   "name": "python3"
  },
  "language_info": {
   "codemirror_mode": {
    "name": "ipython",
    "version": 3
   },
   "file_extension": ".py",
   "mimetype": "text/x-python",
   "name": "python",
   "nbconvert_exporter": "python",
   "pygments_lexer": "ipython3",
   "version": "3.8.3"
  }
 },
 "nbformat": 4,
 "nbformat_minor": 4
}
